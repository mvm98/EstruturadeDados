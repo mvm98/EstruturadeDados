{
  "nbformat": 4,
  "nbformat_minor": 0,
  "metadata": {
    "colab": {
      "provenance": []
    },
    "kernelspec": {
      "name": "python3",
      "display_name": "Python 3"
    },
    "language_info": {
      "name": "python"
    }
  },
  "cells": [
    {
      "cell_type": "markdown",
      "source": [
        "# **UNIVERSIDADE FEDERAL DA PARAÍBA**\n",
        "\n",
        "#**CENTRO DE INFORMÁTICA**\n",
        "\n",
        "#**DEPARTAMENTO DE COMPUTAÇÃO CIENTÍFICA**"
      ],
      "metadata": {
        "id": "r7XaKS2UBKHK"
      }
    },
    {
      "cell_type": "markdown",
      "source": [
        "# PROJETO DE ORDENAÇÃO - ESTRUTURA DE DADOS\n",
        "\n",
        "# DOCENTE: GILBERTO FARIAS DE SOUSA FILHO"
      ],
      "metadata": {
        "id": "09GqJHoqBiVl"
      }
    },
    {
      "cell_type": "markdown",
      "source": [
        "**Aluno / Matrícula:**\n",
        "\n",
        "Matheus Victor Alves Braga Maciel / 20200025508"
      ],
      "metadata": {
        "id": "P0JvZeX0LPkH"
      }
    },
    {
      "cell_type": "markdown",
      "source": [
        "# ALGORITMO DE ORDENAÇÃO\n",
        "\n",
        "Implemente os seguintes algoritmos de ordenação:\n",
        "\n",
        "• SelectionSort\n",
        "\n",
        "• BubbleSort\n",
        "\n",
        "• InsertionSort\n",
        "\n",
        "• MergeSort\n",
        "\n",
        "• QuickSort\n",
        "\n",
        "#Observações de implementação:\n",
        "\n",
        "• O tempo de execução de cada algoritmo deve ser marcado utilizando a system\n",
        "call específica da linguagem de programação adotada.\n",
        "\n",
        "• As implementações deverão estar sob controle de versão (git), hospedadas em\n",
        "um servidor público (GitHub) ou privado (BitBucket).\n",
        "\n",
        "• As implementações deverão ser acompanhadas de casos de teste que possam ser\n",
        "executados por linha de comando.\n",
        "\n",
        "• Os tempos de cada algoritmo para cada instância teste devem ser exibidas na\n",
        "saída do programa.\n",
        "\n",
        "• Enviar na atividade do sigaa o link do código no repositório."
      ],
      "metadata": {
        "id": "nQOHtQclIIvz"
      }
    },
    {
      "cell_type": "markdown",
      "source": [
        "#Instalando ipython-autotime para marcar o tempo de execução:\n"
      ],
      "metadata": {
        "id": "YKDIZNezH51b"
      }
    },
    {
      "cell_type": "code",
      "source": [
        "!pip install ipython-autotime\n",
        "\n",
        "%load_ext autotime"
      ],
      "metadata": {
        "colab": {
          "base_uri": "https://localhost:8080/"
        },
        "id": "6TPP0FgAQLlK",
        "outputId": "b8d6c98c-88b1-4f3e-f96b-6279c0604187"
      },
      "execution_count": 63,
      "outputs": [
        {
          "output_type": "stream",
          "name": "stdout",
          "text": [
            "Looking in indexes: https://pypi.org/simple, https://us-python.pkg.dev/colab-wheels/public/simple/\n",
            "Collecting ipython-autotime\n",
            "  Downloading ipython_autotime-0.3.1-py2.py3-none-any.whl (6.8 kB)\n",
            "Requirement already satisfied: ipython in /usr/local/lib/python3.10/dist-packages (from ipython-autotime) (7.34.0)\n",
            "Requirement already satisfied: setuptools>=18.5 in /usr/local/lib/python3.10/dist-packages (from ipython->ipython-autotime) (67.7.2)\n",
            "Collecting jedi>=0.16 (from ipython->ipython-autotime)\n",
            "  Downloading jedi-0.18.2-py2.py3-none-any.whl (1.6 MB)\n",
            "\u001b[2K     \u001b[90m━━━━━━━━━━━━━━━━━━━━━━━━━━━━━━━━━━━━━━━━\u001b[0m \u001b[32m1.6/1.6 MB\u001b[0m \u001b[31m18.7 MB/s\u001b[0m eta \u001b[36m0:00:00\u001b[0m\n",
            "\u001b[?25hRequirement already satisfied: decorator in /usr/local/lib/python3.10/dist-packages (from ipython->ipython-autotime) (4.4.2)\n",
            "Requirement already satisfied: pickleshare in /usr/local/lib/python3.10/dist-packages (from ipython->ipython-autotime) (0.7.5)\n",
            "Requirement already satisfied: traitlets>=4.2 in /usr/local/lib/python3.10/dist-packages (from ipython->ipython-autotime) (5.7.1)\n",
            "Requirement already satisfied: prompt-toolkit!=3.0.0,!=3.0.1,<3.1.0,>=2.0.0 in /usr/local/lib/python3.10/dist-packages (from ipython->ipython-autotime) (3.0.38)\n",
            "Requirement already satisfied: pygments in /usr/local/lib/python3.10/dist-packages (from ipython->ipython-autotime) (2.14.0)\n",
            "Requirement already satisfied: backcall in /usr/local/lib/python3.10/dist-packages (from ipython->ipython-autotime) (0.2.0)\n",
            "Requirement already satisfied: matplotlib-inline in /usr/local/lib/python3.10/dist-packages (from ipython->ipython-autotime) (0.1.6)\n",
            "Requirement already satisfied: pexpect>4.3 in /usr/local/lib/python3.10/dist-packages (from ipython->ipython-autotime) (4.8.0)\n",
            "Requirement already satisfied: parso<0.9.0,>=0.8.0 in /usr/local/lib/python3.10/dist-packages (from jedi>=0.16->ipython->ipython-autotime) (0.8.3)\n",
            "Requirement already satisfied: ptyprocess>=0.5 in /usr/local/lib/python3.10/dist-packages (from pexpect>4.3->ipython->ipython-autotime) (0.7.0)\n",
            "Requirement already satisfied: wcwidth in /usr/local/lib/python3.10/dist-packages (from prompt-toolkit!=3.0.0,!=3.0.1,<3.1.0,>=2.0.0->ipython->ipython-autotime) (0.2.6)\n",
            "Installing collected packages: jedi, ipython-autotime\n",
            "Successfully installed ipython-autotime-0.3.1 jedi-0.18.2\n",
            "time: 309 µs (started: 2023-06-13 21:49:19 +00:00)\n"
          ]
        }
      ]
    },
    {
      "cell_type": "markdown",
      "source": [
        "#Importando os casos de Teste disponilizados no Sigaa:"
      ],
      "metadata": {
        "id": "qOXA3UHoIHKb"
      }
    },
    {
      "cell_type": "code",
      "source": [
        "from google.colab import files\n",
        "uploaded = files.upload()"
      ],
      "metadata": {
        "colab": {
          "base_uri": "https://localhost:8080/",
          "height": 177
        },
        "id": "aIO9bzCXTbHO",
        "outputId": "265b0a25-fcd0-4675-f77b-38c0d345a55b"
      },
      "execution_count": 3,
      "outputs": [
        {
          "output_type": "display_data",
          "data": {
            "text/plain": [
              "<IPython.core.display.HTML object>"
            ],
            "text/html": [
              "\n",
              "     <input type=\"file\" id=\"files-97cf4ab0-e151-472c-a31f-fef509f70687\" name=\"files[]\" multiple disabled\n",
              "        style=\"border:none\" />\n",
              "     <output id=\"result-97cf4ab0-e151-472c-a31f-fef509f70687\">\n",
              "      Upload widget is only available when the cell has been executed in the\n",
              "      current browser session. Please rerun this cell to enable.\n",
              "      </output>\n",
              "      <script>// Copyright 2017 Google LLC\n",
              "//\n",
              "// Licensed under the Apache License, Version 2.0 (the \"License\");\n",
              "// you may not use this file except in compliance with the License.\n",
              "// You may obtain a copy of the License at\n",
              "//\n",
              "//      http://www.apache.org/licenses/LICENSE-2.0\n",
              "//\n",
              "// Unless required by applicable law or agreed to in writing, software\n",
              "// distributed under the License is distributed on an \"AS IS\" BASIS,\n",
              "// WITHOUT WARRANTIES OR CONDITIONS OF ANY KIND, either express or implied.\n",
              "// See the License for the specific language governing permissions and\n",
              "// limitations under the License.\n",
              "\n",
              "/**\n",
              " * @fileoverview Helpers for google.colab Python module.\n",
              " */\n",
              "(function(scope) {\n",
              "function span(text, styleAttributes = {}) {\n",
              "  const element = document.createElement('span');\n",
              "  element.textContent = text;\n",
              "  for (const key of Object.keys(styleAttributes)) {\n",
              "    element.style[key] = styleAttributes[key];\n",
              "  }\n",
              "  return element;\n",
              "}\n",
              "\n",
              "// Max number of bytes which will be uploaded at a time.\n",
              "const MAX_PAYLOAD_SIZE = 100 * 1024;\n",
              "\n",
              "function _uploadFiles(inputId, outputId) {\n",
              "  const steps = uploadFilesStep(inputId, outputId);\n",
              "  const outputElement = document.getElementById(outputId);\n",
              "  // Cache steps on the outputElement to make it available for the next call\n",
              "  // to uploadFilesContinue from Python.\n",
              "  outputElement.steps = steps;\n",
              "\n",
              "  return _uploadFilesContinue(outputId);\n",
              "}\n",
              "\n",
              "// This is roughly an async generator (not supported in the browser yet),\n",
              "// where there are multiple asynchronous steps and the Python side is going\n",
              "// to poll for completion of each step.\n",
              "// This uses a Promise to block the python side on completion of each step,\n",
              "// then passes the result of the previous step as the input to the next step.\n",
              "function _uploadFilesContinue(outputId) {\n",
              "  const outputElement = document.getElementById(outputId);\n",
              "  const steps = outputElement.steps;\n",
              "\n",
              "  const next = steps.next(outputElement.lastPromiseValue);\n",
              "  return Promise.resolve(next.value.promise).then((value) => {\n",
              "    // Cache the last promise value to make it available to the next\n",
              "    // step of the generator.\n",
              "    outputElement.lastPromiseValue = value;\n",
              "    return next.value.response;\n",
              "  });\n",
              "}\n",
              "\n",
              "/**\n",
              " * Generator function which is called between each async step of the upload\n",
              " * process.\n",
              " * @param {string} inputId Element ID of the input file picker element.\n",
              " * @param {string} outputId Element ID of the output display.\n",
              " * @return {!Iterable<!Object>} Iterable of next steps.\n",
              " */\n",
              "function* uploadFilesStep(inputId, outputId) {\n",
              "  const inputElement = document.getElementById(inputId);\n",
              "  inputElement.disabled = false;\n",
              "\n",
              "  const outputElement = document.getElementById(outputId);\n",
              "  outputElement.innerHTML = '';\n",
              "\n",
              "  const pickedPromise = new Promise((resolve) => {\n",
              "    inputElement.addEventListener('change', (e) => {\n",
              "      resolve(e.target.files);\n",
              "    });\n",
              "  });\n",
              "\n",
              "  const cancel = document.createElement('button');\n",
              "  inputElement.parentElement.appendChild(cancel);\n",
              "  cancel.textContent = 'Cancel upload';\n",
              "  const cancelPromise = new Promise((resolve) => {\n",
              "    cancel.onclick = () => {\n",
              "      resolve(null);\n",
              "    };\n",
              "  });\n",
              "\n",
              "  // Wait for the user to pick the files.\n",
              "  const files = yield {\n",
              "    promise: Promise.race([pickedPromise, cancelPromise]),\n",
              "    response: {\n",
              "      action: 'starting',\n",
              "    }\n",
              "  };\n",
              "\n",
              "  cancel.remove();\n",
              "\n",
              "  // Disable the input element since further picks are not allowed.\n",
              "  inputElement.disabled = true;\n",
              "\n",
              "  if (!files) {\n",
              "    return {\n",
              "      response: {\n",
              "        action: 'complete',\n",
              "      }\n",
              "    };\n",
              "  }\n",
              "\n",
              "  for (const file of files) {\n",
              "    const li = document.createElement('li');\n",
              "    li.append(span(file.name, {fontWeight: 'bold'}));\n",
              "    li.append(span(\n",
              "        `(${file.type || 'n/a'}) - ${file.size} bytes, ` +\n",
              "        `last modified: ${\n",
              "            file.lastModifiedDate ? file.lastModifiedDate.toLocaleDateString() :\n",
              "                                    'n/a'} - `));\n",
              "    const percent = span('0% done');\n",
              "    li.appendChild(percent);\n",
              "\n",
              "    outputElement.appendChild(li);\n",
              "\n",
              "    const fileDataPromise = new Promise((resolve) => {\n",
              "      const reader = new FileReader();\n",
              "      reader.onload = (e) => {\n",
              "        resolve(e.target.result);\n",
              "      };\n",
              "      reader.readAsArrayBuffer(file);\n",
              "    });\n",
              "    // Wait for the data to be ready.\n",
              "    let fileData = yield {\n",
              "      promise: fileDataPromise,\n",
              "      response: {\n",
              "        action: 'continue',\n",
              "      }\n",
              "    };\n",
              "\n",
              "    // Use a chunked sending to avoid message size limits. See b/62115660.\n",
              "    let position = 0;\n",
              "    do {\n",
              "      const length = Math.min(fileData.byteLength - position, MAX_PAYLOAD_SIZE);\n",
              "      const chunk = new Uint8Array(fileData, position, length);\n",
              "      position += length;\n",
              "\n",
              "      const base64 = btoa(String.fromCharCode.apply(null, chunk));\n",
              "      yield {\n",
              "        response: {\n",
              "          action: 'append',\n",
              "          file: file.name,\n",
              "          data: base64,\n",
              "        },\n",
              "      };\n",
              "\n",
              "      let percentDone = fileData.byteLength === 0 ?\n",
              "          100 :\n",
              "          Math.round((position / fileData.byteLength) * 100);\n",
              "      percent.textContent = `${percentDone}% done`;\n",
              "\n",
              "    } while (position < fileData.byteLength);\n",
              "  }\n",
              "\n",
              "  // All done.\n",
              "  yield {\n",
              "    response: {\n",
              "      action: 'complete',\n",
              "    }\n",
              "  };\n",
              "}\n",
              "\n",
              "scope.google = scope.google || {};\n",
              "scope.google.colab = scope.google.colab || {};\n",
              "scope.google.colab._files = {\n",
              "  _uploadFiles,\n",
              "  _uploadFilesContinue,\n",
              "};\n",
              "})(self);\n",
              "</script> "
            ]
          },
          "metadata": {}
        },
        {
          "output_type": "stream",
          "name": "stdout",
          "text": [
            "Saving couting.txt to couting.txt\n",
            "Saving num.1000.1.in to num.1000.1.in\n",
            "Saving num.10000.1.in to num.10000.1.in\n",
            "Saving num.100000.1.in to num.100000.1.in\n"
          ]
        }
      ]
    },
    {
      "cell_type": "markdown",
      "source": [
        "#Padronização de cada lista, foi escolhida uma de cada tamanho."
      ],
      "metadata": {
        "id": "uZl-iZA6Iw5L"
      }
    },
    {
      "cell_type": "code",
      "source": [
        "#Lista com 101 números\n",
        "f = open('/content/couting.txt', \"r\")\n",
        "valores_101 = []\n",
        "for i in range(101):\n",
        "    l = f.readline()\n",
        "    levels = [int(level) for level in l.split()]\n",
        "    valores_101.append(levels)\n",
        "\n",
        "lista_101 = []\n",
        "for a in valores_101:\n",
        "  lista_101.extend(a)\n",
        "\n",
        "#Lista com 1.001 números\n",
        "f = open('/content/num.1000.1.in', \"r\")\n",
        "valores_1001 = []\n",
        "for i in range(1001):\n",
        "    l = f.readline()\n",
        "    levels = [int(level) for level in l.split()]\n",
        "    valores_1001.append(levels)\n",
        "\n",
        "lista_1001 = []\n",
        "for a in valores_1001:\n",
        "  lista_1001.extend(a)\n",
        "\n",
        "#Lista com 10.001 números\n",
        "f = open('/content/num.10000.1.in', \"r\")\n",
        "valores_10001 = []\n",
        "for i in range(10001):\n",
        "    l = f.readline()\n",
        "    levels = [int(level) for level in l.split()]\n",
        "    valores_10001.append(levels)\n",
        "\n",
        "lista_10001 = []\n",
        "for a in valores_10001:\n",
        "  lista_10001.extend(a)\n",
        "\n",
        "#Lista com 100.001 números\n",
        "f = open('/content/num.100000.1.in', \"r\")\n",
        "valores_100001 = []\n",
        "for i in range(100001):\n",
        "    l = f.readline()\n",
        "    levels = [int(level) for level in l.split()]\n",
        "    valores_100001.append(levels)\n",
        "\n",
        "lista_100001 = []\n",
        "for a in valores_100001:\n",
        "  lista_100001.extend(a)"
      ],
      "metadata": {
        "colab": {
          "base_uri": "https://localhost:8080/"
        },
        "id": "lUIM_JU8TtGL",
        "outputId": "c73fe3d8-b668-4d9c-cd59-874808094622"
      },
      "execution_count": 152,
      "outputs": [
        {
          "output_type": "stream",
          "name": "stdout",
          "text": [
            "time: 277 ms (started: 2023-06-14 00:08:54 +00:00)\n"
          ]
        }
      ]
    },
    {
      "cell_type": "markdown",
      "source": [
        "#Verificando o tamanho e integridade das listas:"
      ],
      "metadata": {
        "id": "bdbMEIIXJCsL"
      }
    },
    {
      "cell_type": "code",
      "source": [
        "print(f'{len(lista_101)}, {len(lista_1001)}, {len(lista_10001)}, {len(lista_100001)}')"
      ],
      "metadata": {
        "colab": {
          "base_uri": "https://localhost:8080/"
        },
        "id": "njZMLDpHXgYU",
        "outputId": "29ad3041-5571-42bc-a981-9d10e5802637"
      },
      "execution_count": 130,
      "outputs": [
        {
          "output_type": "stream",
          "name": "stdout",
          "text": [
            "101, 1001, 10001, 100001\n",
            "time: 711 µs (started: 2023-06-14 00:03:15 +00:00)\n"
          ]
        }
      ]
    },
    {
      "cell_type": "code",
      "source": [
        "lista_101[0:10]"
      ],
      "metadata": {
        "colab": {
          "base_uri": "https://localhost:8080/"
        },
        "id": "t0H9RIkZJLAF",
        "outputId": "4386862b-d575-4b4a-8551-ba8b0edefc16"
      },
      "execution_count": 131,
      "outputs": [
        {
          "output_type": "execute_result",
          "data": {
            "text/plain": [
              "[100, 9356, 5028, 9057, 9511, 4095, 8951, 467, 2026, 3426]"
            ]
          },
          "metadata": {},
          "execution_count": 131
        },
        {
          "output_type": "stream",
          "name": "stdout",
          "text": [
            "time: 3.61 ms (started: 2023-06-14 00:03:17 +00:00)\n"
          ]
        }
      ]
    },
    {
      "cell_type": "code",
      "source": [
        "lista_1001[0:10]"
      ],
      "metadata": {
        "colab": {
          "base_uri": "https://localhost:8080/"
        },
        "id": "MUQjRGW-JPDP",
        "outputId": "95f37158-f840-44b9-d896-21bdd31281d4"
      },
      "execution_count": 132,
      "outputs": [
        {
          "output_type": "execute_result",
          "data": {
            "text/plain": [
              "[1000, 93287, -2, 94656, -29, -14, 24, -48, 8, 55486]"
            ]
          },
          "metadata": {},
          "execution_count": 132
        },
        {
          "output_type": "stream",
          "name": "stdout",
          "text": [
            "time: 3.83 ms (started: 2023-06-14 00:03:19 +00:00)\n"
          ]
        }
      ]
    },
    {
      "cell_type": "code",
      "source": [
        "lista_10001[0:10]"
      ],
      "metadata": {
        "colab": {
          "base_uri": "https://localhost:8080/"
        },
        "id": "x8zEoEi5JQh2",
        "outputId": "e81497ce-bce6-4af1-cef9-5fb5f3afb44e"
      },
      "execution_count": 133,
      "outputs": [
        {
          "output_type": "execute_result",
          "data": {
            "text/plain": [
              "[10000, 47, 63279, -23, 60941, 67056, 7, 8, 41, -47]"
            ]
          },
          "metadata": {},
          "execution_count": 133
        },
        {
          "output_type": "stream",
          "name": "stdout",
          "text": [
            "time: 3.52 ms (started: 2023-06-14 00:03:21 +00:00)\n"
          ]
        }
      ]
    },
    {
      "cell_type": "code",
      "source": [
        "lista_100001[0:10]"
      ],
      "metadata": {
        "colab": {
          "base_uri": "https://localhost:8080/"
        },
        "id": "MamLUCgsJSw2",
        "outputId": "ba6b5e37-0785-4ee5-fb36-9d14918fed4b"
      },
      "execution_count": 134,
      "outputs": [
        {
          "output_type": "execute_result",
          "data": {
            "text/plain": [
              "[100000, -5, -28, 93195, 4, 50, 1, 49, 22, 58949]"
            ]
          },
          "metadata": {},
          "execution_count": 134
        },
        {
          "output_type": "stream",
          "name": "stdout",
          "text": [
            "time: 3.59 ms (started: 2023-06-14 00:03:26 +00:00)\n"
          ]
        }
      ]
    },
    {
      "cell_type": "markdown",
      "source": [
        "# Implementação de cada algoritmo solicitado:\n",
        "\n",
        "# SelectionSort:"
      ],
      "metadata": {
        "id": "PDQy8BhZJbc-"
      }
    },
    {
      "cell_type": "code",
      "execution_count": 62,
      "metadata": {
        "id": "YWCCIzmq-l-N"
      },
      "outputs": [],
      "source": [
        "#Selection Sort\n",
        "#Utilizando o Selection Sort, vamos percorrer o array n vezes (n = seu tamanho) procurando o menor elemento e colocando-o na posição 'atual'\n",
        "def selection_sort(array):\n",
        "  for atual in range(len(array)): #Iniciamos a checagem pela primeira posição 'atual'\n",
        "    menor_valor = atual #Como esse é a única posição verificada até agora, ela também é de menor valor\n",
        "    for direita in range(atual+1, len(array)): #Começamos a percorrer o array a partir do elemento imediatamente à direita da posição atual (= menor valor)\n",
        "      if array[direita] < array[menor_valor]: #Sendo o elemento da direita menor que o atual menor (menor_valor)\n",
        "        menor_valor = direita #O novo menor valor agora é esse elemento da direita\n",
        "    array [atual], array[menor_valor] = array[menor_valor], array[atual] #Realizamos a troca de posições: a 'atual' pela 'menor valor', e a 'menor valor' pela 'atual', agora a posição de menor valor é à esquerda da posição atual, e os valores que faltam serem checados estão todos posicionados à direita do 'atual'.\n"
      ]
    },
    {
      "cell_type": "markdown",
      "source": [
        "#BubbleSort:"
      ],
      "metadata": {
        "id": "Y820KgLgJmN6"
      }
    },
    {
      "cell_type": "code",
      "source": [
        "#Bubble Sort\n",
        "#Usando Bubble Sort, vamos comparar o elemento atual ao próximo elemento, sendo ele maior trocaremos o atual pelo próximo, e o próximo elemento recebe o elemento atual.\n",
        "def bubble_sort(array):\n",
        "  for final in range(len(array), 0, -1): #Precisamos de uma posição final, que é quando o algoritmo para de rodar. Essa posição é a\n",
        "    for atual in range(final-1): #A posição atual é a posição imediatamente anterior à posição final\n",
        "      if array[atual] > array[atual + 1]: #Se o elemento da posição atual for maior que o da próxima posição\n",
        "        array[atual], array[atual + 1] = array[atual + 1], array[atual] #Trocaremos os elementos\n"
      ],
      "metadata": {
        "id": "xBEFr5jXLNgI"
      },
      "execution_count": 30,
      "outputs": []
    },
    {
      "cell_type": "markdown",
      "source": [
        "InsertionSort"
      ],
      "metadata": {
        "id": "yYgn2RFDJsuq"
      }
    },
    {
      "cell_type": "code",
      "source": [
        "#Insertion Sort\n",
        "#Com o Insertion Sort pra cada posição do array vamos verificar se o item anterior é menor, se sim ele será trocado até que esse elemento pare na sua posição correta.\n",
        "def insertion_sort(array):\n",
        "  for pos in range(len(array)): #Para cada posição do array\n",
        "    atual = array[pos] #Guardamos o valor do elemento atual numa variavel\n",
        "    while pos > 0 and array[pos-1] > atual: #Enquanto a posição for maior que zero e o elemento da posição anterior for maior que o atual\n",
        "      array[pos] = array[pos-1] #Trocamos a posição atual pela posição imediatamente anterior\n",
        "      pos -= 1 #Decrementamos\n",
        "    array[pos] = atual #A posição atual recebe o novo valor atual\n"
      ],
      "metadata": {
        "id": "miVjLcbkNTj9"
      },
      "execution_count": 45,
      "outputs": []
    },
    {
      "cell_type": "markdown",
      "source": [
        "# MergeSort:"
      ],
      "metadata": {
        "id": "Syk9NtAsJvpc"
      }
    },
    {
      "cell_type": "code",
      "source": [
        "#Merge Sort\n",
        "#Com o Merge Sort dividiremos pela metade um array repetidas vezes até termos apenas um elemento, comparamos elemento com elemento os ordenando e juntando-os em um 'sub-arrays', repetindo o processo até todo o array estar ordenado.\n",
        "def merge_sort(array, inicio=0, fim=None):#Precisamo definir um 'início' e um 'fim'.\n",
        "  if fim is None: #Passando o tamanho da lista para a variável \"fim\"\n",
        "    fim = len(array)\n",
        "  if (fim - inicio > 1): #Se o passo em que estamos não for calculável para o método\n",
        "    meio = (fim + inicio) // 2 #Guardaremos o meio do array\n",
        "    merge_sort(array, inicio, meio) #Chamaremos a função para a primeira metade ou a 'esquerda' do array\n",
        "    merge_sort(array, meio, fim) #Depois faremos o mesmo para a segunda metada ou a 'direita' do array\n",
        "    merge(array, inicio, meio, fim) #Juntamos e ordenamos cada uma das metades do array com a função 'merge'\n",
        "\n",
        "def merge(array, inicio, meio, fim): #Juntar e ordenar o array\n",
        "  esquerda = array[inicio:meio] #Definimos o array da metade 'esquerda'\n",
        "  direita = array[meio:fim] #Assim como o array da metade 'direita'\n",
        "  frente_esquerda, frente_direita = 0, 0 #Iniciamos os valores que estão de cada 'sub-array' (são como pilhas armazenados do menor ao maior valor, do topo ao final da pilha)\n",
        "  for i in range(inicio, fim): #Aqui iniciamos as comparações e ordenações\n",
        "    if frente_esquerda >= len(esquerda): #Verificando se o índice do sub-array esquerdo é maior que o tamanho desse sub-array\n",
        "      array[i] = direita[frente_direita] # Se for o caso passaremos para o sub-array do lado direito\n",
        "      frente_direita = frente_direita + 1\n",
        "    elif frente_direita >= len(direita): #Verificando os índices\n",
        "      array[i] = esquerda[frente_esquerda]\n",
        "      frente_esquerda = frente_esquerda + 1\n",
        "    elif esquerda[frente_esquerda] < direita[frente_direita]: #Se o valor que estiver na frente do 'sub-array' da esquerda for menor do que o 'sub-array' da direita\n",
        "      array[i] = esquerda[frente_esquerda] #Na posição i da lista entra o quem está na frente do 'sub-array' da esquerda\n",
        "      frente_esquerda = frente_esquerda + 1 #Incrementamos\n",
        "    else:  #Se o valor que estiver na frente do 'sub-array' da esquerda for maior do que o 'sub-array' da direita\n",
        "      array[i] = direita[frente_direita]  #Na posição i da lista entra o quem está na frente do 'sub-array' da direita\n",
        "      frente_direita = frente_direita + 1 #Incrementamos\n"
      ],
      "metadata": {
        "colab": {
          "base_uri": "https://localhost:8080/"
        },
        "id": "_RncbjNZ9Blf",
        "outputId": "5dc223e4-9dc1-4fc5-a70d-1388b6c03e9d"
      },
      "execution_count": 73,
      "outputs": [
        {
          "output_type": "stream",
          "name": "stdout",
          "text": [
            "time: 2.63 ms (started: 2023-06-13 21:53:32 +00:00)\n"
          ]
        }
      ]
    },
    {
      "cell_type": "markdown",
      "source": [
        "#QuickSort:"
      ],
      "metadata": {
        "id": "OXHLHz1jJx8n"
      }
    },
    {
      "cell_type": "code",
      "source": [
        "#Quick Sort\n",
        "#Com o Quick Sort um elemento será escolhido como 'pivô', depois dele teremos um array de valores maiores que ele, e antes dele um array de números menores.\n",
        "def quick_sort(array, inicio=0, fim=None):\n",
        "  if fim is None: #Passando o tamanho da lista para a variável \"fim\"\n",
        "    fim = len(array)-1 #Como o pivô será iniciado no final do array, essa posição será desconsiderada quando definindo o tamanho do array\n",
        "  if inicio < fim:\n",
        "    pos = partition(array, inicio, fim) #Função que vai organizar o array, com o pivô no local correta, depois dos números menores, e antes dos valores menores que ele.\n",
        "    quick_sort(array, inicio, pos-1) #Chama o qs com um sub-array à esquerda (menores que o pivô)\n",
        "    quick_sort(array, pos+1, fim) #Chama o qs com um sub-array à direita (maiores que o pivô)\n",
        "\n",
        "def partition(array, inicio, fim): #Encontra a posição correta do pivô\n",
        "  pivo = array[fim] #Nessa implementação do Quick Sort decidi iniciar o pivô no final do array\n",
        "  i = inicio ##Variável (i) responsável por manter o números < pivô à esquerda do msmo\n",
        "  for j in range(inicio, fim): #Variável (j) por manter o números > pivô à direta do msmo\n",
        "    if array[j] <= pivo: #Comparação do elemento da variável '>' e o pivô\n",
        "      array[j], array[i] = array[i], array[j] #Sendo esse elemento menor que o pivô ele será posicionado atrás do pivo com a variável 'i', reponsável pelos elementos '<' pivô\n",
        "      i = i + 1 #Iteramos\n",
        "  array[i], array[fim] = array[fim], array[i] #Posicionando o pivô corretamente, à frente dos menores, atrás do maiores que ele.\n",
        "  return i"
      ],
      "metadata": {
        "id": "MeZD2PLK9Bno"
      },
      "execution_count": 56,
      "outputs": []
    },
    {
      "cell_type": "markdown",
      "source": [
        "# Teste de tempo dos algoritmos:\n"
      ],
      "metadata": {
        "id": "lN9LEpYFJ5d7"
      }
    },
    {
      "cell_type": "markdown",
      "source": [
        "LISTA DE 101 VALORES"
      ],
      "metadata": {
        "id": "D4HckAsQwfU_"
      }
    },
    {
      "cell_type": "code",
      "source": [
        "selection_sort(lista_101)"
      ],
      "metadata": {
        "colab": {
          "base_uri": "https://localhost:8080/"
        },
        "id": "I0BvcJxsIQ5S",
        "outputId": "938dac8a-cc67-4538-e372-a4400c37fb29"
      },
      "execution_count": 64,
      "outputs": [
        {
          "output_type": "stream",
          "name": "stdout",
          "text": [
            "time: 7.97 ms (started: 2023-06-13 21:49:26 +00:00)\n"
          ]
        }
      ]
    },
    {
      "cell_type": "code",
      "source": [
        "bubble_sort(lista_101)"
      ],
      "metadata": {
        "colab": {
          "base_uri": "https://localhost:8080/"
        },
        "id": "S0aWqeSQM7_R",
        "outputId": "73ddada1-3ef3-420d-fcf9-3b48d53e0fd2"
      },
      "execution_count": 66,
      "outputs": [
        {
          "output_type": "stream",
          "name": "stdout",
          "text": [
            "time: 1.17 ms (started: 2023-06-13 21:50:20 +00:00)\n"
          ]
        }
      ]
    },
    {
      "cell_type": "code",
      "source": [
        "insertion_sort(lista_101)"
      ],
      "metadata": {
        "colab": {
          "base_uri": "https://localhost:8080/"
        },
        "id": "ArVJ5BTyQeuz",
        "outputId": "e2f1d37b-303c-4d7a-f3f6-ae9611f4be49"
      },
      "execution_count": 68,
      "outputs": [
        {
          "output_type": "stream",
          "name": "stdout",
          "text": [
            "time: 800 µs (started: 2023-06-13 21:50:33 +00:00)\n"
          ]
        }
      ]
    },
    {
      "cell_type": "code",
      "source": [
        "merge_sort(lista_101)"
      ],
      "metadata": {
        "colab": {
          "base_uri": "https://localhost:8080/"
        },
        "id": "gqz6CvPGvmDV",
        "outputId": "97ec5db2-0c9d-4cf6-809e-0306205d4f2a"
      },
      "execution_count": 74,
      "outputs": [
        {
          "output_type": "stream",
          "name": "stdout",
          "text": [
            "time: 1.07 ms (started: 2023-06-13 21:53:39 +00:00)\n"
          ]
        }
      ]
    },
    {
      "cell_type": "code",
      "source": [
        "quick_sort(lista_101)"
      ],
      "metadata": {
        "colab": {
          "base_uri": "https://localhost:8080/"
        },
        "id": "3HMFtWsuA7vm",
        "outputId": "6d0064d0-1785-4b4f-9055-f8896872a65f"
      },
      "execution_count": 76,
      "outputs": [
        {
          "output_type": "stream",
          "name": "stdout",
          "text": [
            "time: 830 µs (started: 2023-06-13 21:53:52 +00:00)\n"
          ]
        }
      ]
    },
    {
      "cell_type": "markdown",
      "source": [
        "LISTA DE 1.001 VALORES"
      ],
      "metadata": {
        "id": "KEYfZyb0wqTH"
      }
    },
    {
      "cell_type": "code",
      "source": [
        "selection_sort(lista_1001)"
      ],
      "metadata": {
        "colab": {
          "base_uri": "https://localhost:8080/"
        },
        "id": "ERwzJQWEwF7L",
        "outputId": "f80ca09d-8d6b-4db0-dac5-906a76a73eb6"
      },
      "execution_count": 77,
      "outputs": [
        {
          "output_type": "stream",
          "name": "stdout",
          "text": [
            "time: 44 ms (started: 2023-06-13 21:54:43 +00:00)\n"
          ]
        }
      ]
    },
    {
      "cell_type": "code",
      "source": [
        "bubble_sort(lista_1001)"
      ],
      "metadata": {
        "colab": {
          "base_uri": "https://localhost:8080/"
        },
        "id": "gbL0mcelwF-7",
        "outputId": "023f81cc-aac6-41a3-a7b0-09b035776d8b"
      },
      "execution_count": 79,
      "outputs": [
        {
          "output_type": "stream",
          "name": "stdout",
          "text": [
            "time: 84.3 ms (started: 2023-06-13 21:54:56 +00:00)\n"
          ]
        }
      ]
    },
    {
      "cell_type": "code",
      "source": [
        "insertion_sort(lista_1001)"
      ],
      "metadata": {
        "colab": {
          "base_uri": "https://localhost:8080/"
        },
        "id": "EtlaLEktwGES",
        "outputId": "8e61865e-2363-49a8-c8d3-bed31d141061"
      },
      "execution_count": 81,
      "outputs": [
        {
          "output_type": "stream",
          "name": "stdout",
          "text": [
            "time: 62.3 ms (started: 2023-06-13 21:55:07 +00:00)\n"
          ]
        }
      ]
    },
    {
      "cell_type": "code",
      "source": [
        "merge_sort(lista_1001)"
      ],
      "metadata": {
        "colab": {
          "base_uri": "https://localhost:8080/"
        },
        "id": "7YVVc9dXwGKF",
        "outputId": "dc3453f3-91ad-45b6-f607-e08781837068"
      },
      "execution_count": 83,
      "outputs": [
        {
          "output_type": "stream",
          "name": "stdout",
          "text": [
            "time: 6.32 ms (started: 2023-06-13 21:55:22 +00:00)\n"
          ]
        }
      ]
    },
    {
      "cell_type": "code",
      "source": [
        "quick_sort(lista_1001)"
      ],
      "metadata": {
        "colab": {
          "base_uri": "https://localhost:8080/"
        },
        "id": "ykL4cdvpwGRc",
        "outputId": "fba282cf-9c18-4a49-ee0b-a936d2c1d686"
      },
      "execution_count": 85,
      "outputs": [
        {
          "output_type": "stream",
          "name": "stdout",
          "text": [
            "time: 3.88 ms (started: 2023-06-13 21:55:34 +00:00)\n"
          ]
        }
      ]
    },
    {
      "cell_type": "markdown",
      "source": [
        "LISTA DE 10.001 VALORES"
      ],
      "metadata": {
        "id": "rQPBNgWQwvuv"
      }
    },
    {
      "cell_type": "code",
      "source": [
        "selection_sort(lista_10001)"
      ],
      "metadata": {
        "colab": {
          "base_uri": "https://localhost:8080/"
        },
        "id": "fWVFBNE-wyIm",
        "outputId": "0fb29693-fe1e-4f51-f139-72895e47135e"
      },
      "execution_count": 87,
      "outputs": [
        {
          "output_type": "stream",
          "name": "stdout",
          "text": [
            "time: 3.45 s (started: 2023-06-13 21:59:25 +00:00)\n"
          ]
        }
      ]
    },
    {
      "cell_type": "code",
      "source": [
        "bubble_sort(lista_10001)"
      ],
      "metadata": {
        "colab": {
          "base_uri": "https://localhost:8080/"
        },
        "id": "1SDLjZlNwyce",
        "outputId": "c202eb34-a216-40d8-91b1-1e7b78507c0d"
      },
      "execution_count": 89,
      "outputs": [
        {
          "output_type": "stream",
          "name": "stdout",
          "text": [
            "time: 8.81 s (started: 2023-06-13 21:59:41 +00:00)\n"
          ]
        }
      ]
    },
    {
      "cell_type": "code",
      "source": [
        "insertion_sort(lista_10001)"
      ],
      "metadata": {
        "colab": {
          "base_uri": "https://localhost:8080/"
        },
        "id": "J9CPhXNmwyup",
        "outputId": "06c7aed0-b1b4-4bf9-d477-6f7d96c0dd55"
      },
      "execution_count": 91,
      "outputs": [
        {
          "output_type": "stream",
          "name": "stdout",
          "text": [
            "time: 5.92 s (started: 2023-06-13 22:00:04 +00:00)\n"
          ]
        }
      ]
    },
    {
      "cell_type": "code",
      "source": [
        "merge_sort(lista_10001)"
      ],
      "metadata": {
        "colab": {
          "base_uri": "https://localhost:8080/"
        },
        "id": "fu-5_iK1wy_9",
        "outputId": "9f199e7b-ee74-4f1e-bd7b-de1c4913a284"
      },
      "execution_count": 93,
      "outputs": [
        {
          "output_type": "stream",
          "name": "stdout",
          "text": [
            "time: 63 ms (started: 2023-06-13 22:00:23 +00:00)\n"
          ]
        }
      ]
    },
    {
      "cell_type": "code",
      "source": [
        "quick_sort(lista_10001)"
      ],
      "metadata": {
        "colab": {
          "base_uri": "https://localhost:8080/"
        },
        "id": "my3j9_JKwupr",
        "outputId": "929a77f5-2549-47a1-bdb0-c7d1f06f5c00"
      },
      "execution_count": 95,
      "outputs": [
        {
          "output_type": "stream",
          "name": "stdout",
          "text": [
            "time: 59.2 ms (started: 2023-06-13 22:00:38 +00:00)\n"
          ]
        }
      ]
    },
    {
      "cell_type": "markdown",
      "source": [
        "LISTA DE 100.001 VALORES"
      ],
      "metadata": {
        "id": "xE69LCRQwzsU"
      }
    },
    {
      "cell_type": "code",
      "source": [
        "selection_sort(lista_100001)"
      ],
      "metadata": {
        "colab": {
          "base_uri": "https://localhost:8080/"
        },
        "id": "ygxB7rBkw16s",
        "outputId": "3ef6ba41-d4ac-4a52-cbd4-133b9b01d7f8"
      },
      "execution_count": 97,
      "outputs": [
        {
          "output_type": "stream",
          "name": "stdout",
          "text": [
            "time: 11min 17s (started: 2023-06-13 22:00:59 +00:00)\n"
          ]
        }
      ]
    },
    {
      "cell_type": "code",
      "source": [
        "bubble_sort(lista_100001)"
      ],
      "metadata": {
        "colab": {
          "base_uri": "https://localhost:8080/"
        },
        "id": "nntFSCMIw2DQ",
        "outputId": "d48cbf61-c2e4-44dd-86a9-34d88d51262a"
      },
      "execution_count": 100,
      "outputs": [
        {
          "output_type": "stream",
          "name": "stdout",
          "text": [
            "time: 19min 6s (started: 2023-06-13 22:33:07 +00:00)\n"
          ]
        }
      ]
    },
    {
      "cell_type": "code",
      "source": [
        "insertion_sort(lista_100001)"
      ],
      "metadata": {
        "colab": {
          "base_uri": "https://localhost:8080/"
        },
        "id": "vDaxoyaJw2KK",
        "outputId": "12e429be-0326-4c3e-fdc2-c63112265c11"
      },
      "execution_count": 102,
      "outputs": [
        {
          "output_type": "stream",
          "name": "stdout",
          "text": [
            "time: 10min 47s (started: 2023-06-13 22:54:28 +00:00)\n"
          ]
        }
      ]
    },
    {
      "cell_type": "code",
      "source": [
        "merge_sort(lista_100001)"
      ],
      "metadata": {
        "colab": {
          "base_uri": "https://localhost:8080/"
        },
        "id": "EDGVt8w4w2Qf",
        "outputId": "27eab999-073a-437e-cc93-ad266cd11fbe"
      },
      "execution_count": 121,
      "outputs": [
        {
          "output_type": "stream",
          "name": "stdout",
          "text": [
            "time: 500 ms (started: 2023-06-13 23:52:23 +00:00)\n"
          ]
        }
      ]
    },
    {
      "cell_type": "code",
      "source": [
        "quick_sort(lista_100001)"
      ],
      "metadata": {
        "colab": {
          "base_uri": "https://localhost:8080/"
        },
        "id": "oPnNCbZLw2ZM",
        "outputId": "e31e464a-4822-4611-f39c-3bbb9bf32998"
      },
      "execution_count": 106,
      "outputs": [
        {
          "output_type": "stream",
          "name": "stdout",
          "text": [
            "time: 2.8 s (started: 2023-06-13 23:06:05 +00:00)\n"
          ]
        }
      ]
    },
    {
      "cell_type": "markdown",
      "source": [
        "# Aplicação:"
      ],
      "metadata": {
        "id": "REPitDXSKDzf"
      }
    },
    {
      "cell_type": "code",
      "source": [
        "selection_sort(lista_101)\n",
        "lista_101[0:20]"
      ],
      "metadata": {
        "colab": {
          "base_uri": "https://localhost:8080/"
        },
        "id": "ETJOWalLKVq4",
        "outputId": "e8e120ad-5221-4ef1-afb2-5a39a3362ca2"
      },
      "execution_count": 135,
      "outputs": [
        {
          "output_type": "execute_result",
          "data": {
            "text/plain": [
              "[72,\n",
              " 100,\n",
              " 467,\n",
              " 605,\n",
              " 1087,\n",
              " 1119,\n",
              " 1218,\n",
              " 1247,\n",
              " 1295,\n",
              " 1410,\n",
              " 1416,\n",
              " 1616,\n",
              " 1772,\n",
              " 2026,\n",
              " 2048,\n",
              " 2327,\n",
              " 2346,\n",
              " 2404,\n",
              " 2446,\n",
              " 2456]"
            ]
          },
          "metadata": {},
          "execution_count": 135
        },
        {
          "output_type": "stream",
          "name": "stdout",
          "text": [
            "time: 4.87 ms (started: 2023-06-14 00:04:23 +00:00)\n"
          ]
        }
      ]
    },
    {
      "cell_type": "code",
      "source": [
        "bubble_sort(lista_1001)\n",
        "lista_1001[0:20]"
      ],
      "metadata": {
        "colab": {
          "base_uri": "https://localhost:8080/"
        },
        "id": "948iLNOnKagT",
        "outputId": "bc4095a4-7c41-46f4-f8d9-d25d1a4bf1f3"
      },
      "execution_count": 136,
      "outputs": [
        {
          "output_type": "execute_result",
          "data": {
            "text/plain": [
              "[-50,\n",
              " -50,\n",
              " -50,\n",
              " -49,\n",
              " -49,\n",
              " -49,\n",
              " -49,\n",
              " -49,\n",
              " -49,\n",
              " -49,\n",
              " -48,\n",
              " -48,\n",
              " -48,\n",
              " -48,\n",
              " -48,\n",
              " -48,\n",
              " -48,\n",
              " -48,\n",
              " -47,\n",
              " -47]"
            ]
          },
          "metadata": {},
          "execution_count": 136
        },
        {
          "output_type": "stream",
          "name": "stdout",
          "text": [
            "time: 150 ms (started: 2023-06-14 00:04:34 +00:00)\n"
          ]
        }
      ]
    },
    {
      "cell_type": "code",
      "source": [
        "insertion_sort(lista_10001)\n",
        "lista_10001[0:20]"
      ],
      "metadata": {
        "colab": {
          "base_uri": "https://localhost:8080/"
        },
        "id": "UmKcneFYKk3I",
        "outputId": "7e0a168a-7d5b-41fb-a438-8fcd989cfc92"
      },
      "execution_count": 137,
      "outputs": [
        {
          "output_type": "execute_result",
          "data": {
            "text/plain": [
              "[-50,\n",
              " -50,\n",
              " -50,\n",
              " -50,\n",
              " -50,\n",
              " -50,\n",
              " -50,\n",
              " -50,\n",
              " -50,\n",
              " -50,\n",
              " -50,\n",
              " -50,\n",
              " -50,\n",
              " -50,\n",
              " -50,\n",
              " -50,\n",
              " -50,\n",
              " -50,\n",
              " -50,\n",
              " -50]"
            ]
          },
          "metadata": {},
          "execution_count": 137
        },
        {
          "output_type": "stream",
          "name": "stdout",
          "text": [
            "time: 4.24 s (started: 2023-06-14 00:04:40 +00:00)\n"
          ]
        }
      ]
    },
    {
      "cell_type": "code",
      "source": [
        "merge_sort(lista_100001)\n",
        "lista_100001[87364:87384]"
      ],
      "metadata": {
        "colab": {
          "base_uri": "https://localhost:8080/"
        },
        "id": "wseerNhIKrRm",
        "outputId": "0069fcf8-712e-4866-9044-8ea2cf19d21f"
      },
      "execution_count": 153,
      "outputs": [
        {
          "output_type": "execute_result",
          "data": {
            "text/plain": [
              "[87391,\n",
              " 87391,\n",
              " 87393,\n",
              " 87393,\n",
              " 87394,\n",
              " 87395,\n",
              " 87396,\n",
              " 87400,\n",
              " 87401,\n",
              " 87401,\n",
              " 87401,\n",
              " 87403,\n",
              " 87405,\n",
              " 87406,\n",
              " 87406,\n",
              " 87407,\n",
              " 87407,\n",
              " 87409,\n",
              " 87410,\n",
              " 87411]"
            ]
          },
          "metadata": {},
          "execution_count": 153
        },
        {
          "output_type": "stream",
          "name": "stdout",
          "text": [
            "time: 530 ms (started: 2023-06-14 00:09:02 +00:00)\n"
          ]
        }
      ]
    },
    {
      "cell_type": "code",
      "source": [
        "quick_sort(lista_100001)\n",
        "lista_100001[63135:63155]"
      ],
      "metadata": {
        "colab": {
          "base_uri": "https://localhost:8080/"
        },
        "id": "hKjtTB3vKzs0",
        "outputId": "8c7f8234-c46c-46bc-f3e9-e5487f659c40"
      },
      "execution_count": 151,
      "outputs": [
        {
          "output_type": "execute_result",
          "data": {
            "text/plain": [
              "[63190,\n",
              " 63192,\n",
              " 63193,\n",
              " 63195,\n",
              " 63196,\n",
              " 63198,\n",
              " 63198,\n",
              " 63199,\n",
              " 63199,\n",
              " 63200,\n",
              " 63204,\n",
              " 63205,\n",
              " 63206,\n",
              " 63206,\n",
              " 63207,\n",
              " 63208,\n",
              " 63209,\n",
              " 63209,\n",
              " 63209,\n",
              " 63210]"
            ]
          },
          "metadata": {},
          "execution_count": 151
        },
        {
          "output_type": "stream",
          "name": "stdout",
          "text": [
            "time: 2.29 s (started: 2023-06-14 00:08:14 +00:00)\n"
          ]
        }
      ]
    }
  ]
}